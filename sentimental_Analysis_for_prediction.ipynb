{
 "cells": [
  {
   "cell_type": "code",
   "execution_count": 18,
   "id": "78479f54",
   "metadata": {},
   "outputs": [],
   "source": [
    "FILE_PATH =\"Restaurant_Reviews.tsv\"\n",
    "Tfidf     =\"TFIDF.pkl\"\n",
    "FSelection =\"FeatureSelection.pkl\"\n",
    "EXPORT_MODEL =\"Model.pkl\""
   ]
  },
  {
   "cell_type": "code",
   "execution_count": 19,
   "id": "fa8fbac6",
   "metadata": {},
   "outputs": [
    {
     "name": "stderr",
     "output_type": "stream",
     "text": [
      "[nltk_data] Downloading package stopwords to\n",
      "[nltk_data]     C:\\Users\\ms\\AppData\\Roaming\\nltk_data...\n",
      "[nltk_data]   Package stopwords is already up-to-date!\n"
     ]
    }
   ],
   "source": [
    "import pickle\n",
    "import pandas as pd\n",
    "import numpy as np\n",
    "import re\n",
    "import nltk\n",
    "from nltk.corpus import stopwords\n",
    "nltk.download('stopwords')\n",
    "from nltk.stem import PorterStemmer"
   ]
  },
  {
   "cell_type": "code",
   "execution_count": 20,
   "id": "01d74a07",
   "metadata": {},
   "outputs": [],
   "source": [
    "class preprocessing():\n",
    "    \n",
    "    def read_pickle(file_path):\n",
    "        with open(file_path, 'rb') as f:\n",
    "            data= pickle.load(f)\n",
    "        return data\n",
    "    \n",
    "    def read_csv(file_path):\n",
    "        data =pd.read_csv(FILE_PATH, sep =\"\\t\")\n",
    "        return data\n",
    "    \n",
    "sm = PorterStemmer()\n",
    "def cleaning_Reviews(Review): \n",
    "        cleantext=re.sub('[^a-zA-Z]',\" \",Review)\n",
    "        cleantext =  cleantext.lower()\n",
    "        cleantext= cleantext.split()\n",
    "        cleantext = [word for word in cleantext if word not in stopwords.words('english')]\n",
    "        cleantext =  ' '.join(cleantext)\n",
    "        cleantext = sm.stem(cleantext) \n",
    "\n",
    "        return cleantext"
   ]
  },
  {
   "cell_type": "code",
   "execution_count": 21,
   "id": "15d69112",
   "metadata": {},
   "outputs": [],
   "source": [
    "tfidf =preprocessing.read_pickle(Tfidf)"
   ]
  },
  {
   "cell_type": "code",
   "execution_count": 22,
   "id": "92140ae4",
   "metadata": {},
   "outputs": [],
   "source": [
    "FeatureSelection =preprocessing.read_pickle(FSelection)"
   ]
  },
  {
   "cell_type": "code",
   "execution_count": 23,
   "id": "228aba3d",
   "metadata": {},
   "outputs": [],
   "source": [
    "model =preprocessing.read_pickle(EXPORT_MODEL)"
   ]
  },
  {
   "cell_type": "code",
   "execution_count": 24,
   "id": "f9f3d804",
   "metadata": {},
   "outputs": [],
   "source": [
    "# Map category ID to category name\n",
    "category_mapping ={\n",
    "    0:'Negative',\n",
    "    1:'Positive',\n",
    "}"
   ]
  },
  {
   "cell_type": "code",
   "execution_count": 25,
   "id": "23021efb",
   "metadata": {},
   "outputs": [],
   "source": [
    "def prediction(text):\n",
    "    cleaning =cleaning_Reviews(text)\n",
    "    # covert text using the trained TfidfVectorizer\n",
    "    input_features = tfidf.transform([cleaning])\n",
    "    FSelection =FeatureSelection.transform(input_features)\n",
    "    # Make the prediction using the loaded classifier\n",
    "    prediction_id = model.predict(FSelection)[0]\n",
    "        \n",
    "    category_name = category_mapping.get(prediction_id, \"Unknown\")    \n",
    "        \n",
    "    return category_name"
   ]
  },
  {
   "cell_type": "code",
   "execution_count": 27,
   "id": "e2daa75c",
   "metadata": {},
   "outputs": [
    {
     "data": {
      "text/html": [
       "<div>\n",
       "<style scoped>\n",
       "    .dataframe tbody tr th:only-of-type {\n",
       "        vertical-align: middle;\n",
       "    }\n",
       "\n",
       "    .dataframe tbody tr th {\n",
       "        vertical-align: top;\n",
       "    }\n",
       "\n",
       "    .dataframe thead th {\n",
       "        text-align: right;\n",
       "    }\n",
       "</style>\n",
       "<table border=\"1\" class=\"dataframe\">\n",
       "  <thead>\n",
       "    <tr style=\"text-align: right;\">\n",
       "      <th></th>\n",
       "      <th>Review</th>\n",
       "      <th>Liked</th>\n",
       "    </tr>\n",
       "  </thead>\n",
       "  <tbody>\n",
       "    <tr>\n",
       "      <th>0</th>\n",
       "      <td>Wow... Loved this place.</td>\n",
       "      <td>1</td>\n",
       "    </tr>\n",
       "    <tr>\n",
       "      <th>1</th>\n",
       "      <td>Crust is not good.</td>\n",
       "      <td>0</td>\n",
       "    </tr>\n",
       "    <tr>\n",
       "      <th>2</th>\n",
       "      <td>Not tasty and the texture was just nasty.</td>\n",
       "      <td>0</td>\n",
       "    </tr>\n",
       "    <tr>\n",
       "      <th>3</th>\n",
       "      <td>Stopped by during the late May bank holiday of...</td>\n",
       "      <td>1</td>\n",
       "    </tr>\n",
       "    <tr>\n",
       "      <th>4</th>\n",
       "      <td>The selection on the menu was great and so wer...</td>\n",
       "      <td>1</td>\n",
       "    </tr>\n",
       "  </tbody>\n",
       "</table>\n",
       "</div>"
      ],
      "text/plain": [
       "                                              Review  Liked\n",
       "0                           Wow... Loved this place.      1\n",
       "1                                 Crust is not good.      0\n",
       "2          Not tasty and the texture was just nasty.      0\n",
       "3  Stopped by during the late May bank holiday of...      1\n",
       "4  The selection on the menu was great and so wer...      1"
      ]
     },
     "execution_count": 27,
     "metadata": {},
     "output_type": "execute_result"
    }
   ],
   "source": [
    "data =preprocessing.read_csv(FILE_PATH)\n",
    "data.head()"
   ]
  },
  {
   "cell_type": "code",
   "execution_count": 28,
   "id": "349d857b",
   "metadata": {},
   "outputs": [
    {
     "data": {
      "text/plain": [
       "'Their regular toasted bread was equally satisfying with the occasional pats of butter... Mmmm...!'"
      ]
     },
     "execution_count": 28,
     "metadata": {},
     "output_type": "execute_result"
    }
   ],
   "source": [
    "Review_positive =data[data[\"Liked\"] ==1][\"Review\"][901]\n",
    "Review_positive"
   ]
  },
  {
   "cell_type": "code",
   "execution_count": 31,
   "id": "cc84e49e",
   "metadata": {},
   "outputs": [
    {
     "data": {
      "text/plain": [
       "'Now I am getting angry and I want my damn pho.'"
      ]
     },
     "execution_count": 31,
     "metadata": {},
     "output_type": "execute_result"
    }
   ],
   "source": [
    "Review_Negative =data[data[\"Liked\"] ==0][\"Review\"][5]\n",
    "Review_Negative"
   ]
  },
  {
   "cell_type": "code",
   "execution_count": 17,
   "id": "a4bdaba8",
   "metadata": {},
   "outputs": [
    {
     "data": {
      "text/plain": [
       "'Positive'"
      ]
     },
     "execution_count": 17,
     "metadata": {},
     "output_type": "execute_result"
    }
   ],
   "source": [
    "prediction(Review_positive)"
   ]
  },
  {
   "cell_type": "code",
   "execution_count": 32,
   "id": "a0a50dbe",
   "metadata": {},
   "outputs": [
    {
     "data": {
      "text/plain": [
       "'Negative'"
      ]
     },
     "execution_count": 32,
     "metadata": {},
     "output_type": "execute_result"
    }
   ],
   "source": [
    "prediction(Review_Negative)"
   ]
  }
 ],
 "metadata": {
  "kernelspec": {
   "display_name": "Python 3 (ipykernel)",
   "language": "python",
   "name": "python3"
  },
  "language_info": {
   "codemirror_mode": {
    "name": "ipython",
    "version": 3
   },
   "file_extension": ".py",
   "mimetype": "text/x-python",
   "name": "python",
   "nbconvert_exporter": "python",
   "pygments_lexer": "ipython3",
   "version": "3.9.12"
  }
 },
 "nbformat": 4,
 "nbformat_minor": 5
}
